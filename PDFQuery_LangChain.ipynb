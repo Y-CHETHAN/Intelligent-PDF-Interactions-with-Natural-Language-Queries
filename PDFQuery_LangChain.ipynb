{
  "cells": [
    {
      "cell_type": "markdown",
      "metadata": {
        "id": "m_FeN-Ep4Rpp"
      },
      "source": [
        "Install the required dependencies:"
      ]
    },
    {
      "cell_type": "code",
      "execution_count": 1,
      "metadata": {
        "colab": {
          "base_uri": "https://localhost:8080/"
        },
        "id": "Uk0qUhJUQrkO",
        "outputId": "565089c4-b67a-4772-dadc-5b840566eaf6"
      },
      "outputs": [],
      "source": [
        "!pip install -q cassio datasets langchain openai tiktoken"
      ]
    },
    {
      "cell_type": "markdown",
      "metadata": {
        "id": "XQQN-L2J4Rpq"
      },
      "source": [
        "Import the packages you'll need:"
      ]
    },
    {
      "cell_type": "code",
      "execution_count": 2,
      "metadata": {
        "id": "V4qBIihE4Rpq"
      },
      "outputs": [
        {
          "name": "stderr",
          "output_type": "stream",
          "text": [
            "c:\\Users\\ychet\\AppData\\Local\\Programs\\Python\\Python311\\Lib\\site-packages\\tqdm\\auto.py:21: TqdmWarning: IProgress not found. Please update jupyter and ipywidgets. See https://ipywidgets.readthedocs.io/en/stable/user_install.html\n",
            "  from .autonotebook import tqdm as notebook_tqdm\n"
          ]
        }
      ],
      "source": [
        "# LangChain components to use\n",
        "from langchain.vectorstores.cassandra import Cassandra\n",
        "from langchain.indexes.vectorstore import VectorStoreIndexWrapper\n",
        "from langchain.llms import OpenAI\n",
        "from langchain.embeddings import OpenAIEmbeddings\n",
        "\n",
        "# Support for dataset retrieval with Hugging Face\n",
        "from datasets import load_dataset\n",
        "\n",
        "# With CassIO, the engine powering the Astra DB integration in LangChain,\n",
        "# you will also initialize the DB connection:\n",
        "import cassio"
      ]
    },
    {
      "cell_type": "code",
      "execution_count": 3,
      "metadata": {
        "colab": {
          "base_uri": "https://localhost:8080/"
        },
        "id": "WIs76OPQ6JyD",
        "outputId": "4cc3f03c-7f68-4adb-c9d0-3fda1aae83af"
      },
      "outputs": [
        {
          "name": "stdout",
          "output_type": "stream",
          "text": [
            "Collecting PyPDF2\n",
            "  Downloading pypdf2-3.0.1-py3-none-any.whl.metadata (6.8 kB)\n",
            "Downloading pypdf2-3.0.1-py3-none-any.whl (232 kB)\n",
            "   ---------------------------------------- 0.0/232.6 kB ? eta -:--:--\n",
            "   ---------------------------------------- 232.6/232.6 kB 7.2 MB/s eta 0:00:00\n",
            "Installing collected packages: PyPDF2\n",
            "Successfully installed PyPDF2-3.0.1\n"
          ]
        }
      ],
      "source": [
        "!pip install PyPDF2"
      ]
    },
    {
      "cell_type": "code",
      "execution_count": 4,
      "metadata": {
        "id": "1itBNL1v6N9-"
      },
      "outputs": [],
      "source": [
        "from PyPDF2 import PdfReader"
      ]
    },
    {
      "cell_type": "markdown",
      "metadata": {
        "id": "Vu2UauiC4Rpr"
      },
      "source": [
        "### Setup"
      ]
    },
    {
      "cell_type": "markdown",
      "metadata": {
        "id": "Q1cmD5EF4Rpr"
      },
      "source": [
        "#### Provide your secrets:\n",
        "\n",
        "Replace the following with your Astra DB connection details and your OpenAI API key:"
      ]
    },
    {
      "cell_type": "code",
      "execution_count": 20,
      "metadata": {
        "id": "eqpM6I854Rpr"
      },
      "outputs": [],
      "source": [
        "ASTRA_DB_APPLICATION_TOKEN = \"AstraCS:HolwhivRrdfPMnhbcrnzKryW:058e90403d7e4cf54945642163fad6ac82db10cd3b15093d2258398e8042703f\" # enter the \"AstraCS:...\" string found in in your Token JSON file\n",
        "ASTRA_DB_ID = \"6f002a0a-8857-4e61-9a48-9bc5efefaa16\" # enter your Database ID\n",
        "\n",
        "OPENAI_API_KEY = \"\" # enter your OpenAI key"
      ]
    },
    {
      "cell_type": "code",
      "execution_count": 21,
      "metadata": {
        "id": "waVKJW-n6jqJ"
      },
      "outputs": [],
      "source": [
        "# provide the path of  pdf file/files.\n",
        "pdfreader = PdfReader('Intelligent PDF Interactions with Natural Language Queries.pdf')"
      ]
    },
    {
      "cell_type": "code",
      "execution_count": 22,
      "metadata": {
        "id": "42BKuFRO6meP"
      },
      "outputs": [],
      "source": [
        "from typing_extensions import Concatenate\n",
        "# read text from pdf\n",
        "raw_text = ''\n",
        "for i, page in enumerate(pdfreader.pages):\n",
        "    content = page.extract_text()\n",
        "    if content:\n",
        "        raw_text += content"
      ]
    },
    {
      "cell_type": "code",
      "execution_count": 23,
      "metadata": {
        "colab": {
          "base_uri": "https://localhost:8080/",
          "height": 140
        },
        "id": "vR41Iq-4ZHnG",
        "outputId": "55aa152f-24c3-4b21-9029-5c66a81828a6"
      },
      "outputs": [
        {
          "data": {
            "text/plain": [
              "' \\n \\nInteligencia Artificial, 27(73) (2024), 129 -141 \\n \\nISSN: 1137 -3601 (print), 1988 -3064 (on -line)  \\n© IBERAMIA  and the authors  INTELIGENCIA ARTIFICIAL  \\n \\nhttp://journal.iberamia.org/  \\n \\n \\n \\n \\n \\nIntelligent PDF  Interactions with Natural Language Queries  \\n \\nAbstract  This research explores the fusion of natural language processing and document analysis to create an \\nintelligent document interaction system. The project combines vector database technology, Cassandra, with \\nOpenAI language models, enabling users to seamlessly interact with PDF documents using natural language \\nqueries. Through a custom -designed chatbot, users can upload PDFs, which are processed and indexed in the \\nCassandra vector database. The integration of OpenAI facilitates contextually rich responses to user queries, \\nproviding an effective mechanism for retrieving precise information from digital documents. Experimental \\nevaluations demonstrate the system\\'s accuracy and showcase a significant advancement in enhancing user \\ninteractions with PDFs through intelligent natural language interactions.  \\n \\nResumen  Esta investigación explora la fusión del procesamiento del lenguaje natural y el análisis de documentos \\npara crear un sistema inteligente de interacción de documentos. El proyecto combina la tecnología de base de \\ndatos vectorial, Cassandra, con modelos de lenguaje OpenAI, lo que permite a los usuarios interactuar sin \\nproblemas con documentos PDF mediante consultas en lenguaje natural. A través de un chatbot diseñado a \\nmedida, los usuarios pueden cargar archivos PDF, que se procesan e indexan en la base de datos vectorial de \\nCassandra. La integración de OpenAI facilita respuestas contextualmente ricas a las consultas de los usuarios, \\nproporcionando un mecanismo eficaz para recuperar información precisa de documentos digitales. Las \\nevaluaciones experimentales demuestran la precisión del sistema y muestran un avance significativo en la mejora \\nde las interacciones del usuario con archivos PDF a través de interacciones inteligentes en lenguaje natural.  \\n \\nKeywords : Natural Language Processing, Document Analysis, Cassandra, OpenAI, Vector Database, Chatbot, \\nPDF Interaction, Intelligent Document Retrieval, Information Extraction, User -Friendly Queries.  \\nPalabras clave : Procesamiento de lenguaje natural, análisis de documentos, Cassandra, OpenAI, base de datos \\nvectorial, chatbot, interacción PDF, recuperación inteligente de documentos, extracción de información, consultas \\nfáciles de usar.  \\n1 Introduction  \\nIn the ever -evolving landscape of digital information, the integration of natural language processing (NLP) and \\ndocument analysis emerges as a pivotal paradigm for elevating user interactions with digital content. This research \\nproject addresses the intricate challenge of fostering intelligent document interactions through the lens of natural \\nlanguage queries, presenting a comprehensive solution that amalgamates cutting -edge technologies.  \\nOur project employs a holistic approach, leveraging the symbiotic integration of vector database technology, \\nspecifically Cassandra, and state -of-the-art language models, exemplified by OpenAI. At its core, the project \\nfeatures a bespoke chatbot, meticulously designed to empower users in seamlessly uploading PDF documents. \\nSubsequently, these documents undergo sophisticated processing and indexing within a vector database, laying the \\nfoundation for a nuanced and efficient information retrieval system. Methodologically, the project harnesses the \\nformidable capabilities of the OpenAI language model, ensuring the generation of contextually relevant responses \\nto user queries. Concurrently, the vector database, Cassandra, plays a pivotal role in enabling the storage and \\nretrieval of document embeddings with unparalleled efficiency. The architectural synergy between the chatbot and \\nthe vector database establishes a conduit for seamless communication, thereby furnishing users with accurate and \\ncontextually rich responses to their natural language inquiries.  \\nThe empirical validation of our approach is substantiated through rigorous experimental evaluations, attesting \\nto the system\\'s efficacy in retrieving pertinent information from uploaded PDFs. The results not only showcase a \\ncommendable accuracy rate in response generation but also underscore the innovative amalgamation of vector \\ndatabase technology and advanced language models. This confluence delineates a significant advancement in the \\ndomain of intelligent document interactions, offering a robust and sophisticated solution tailored to the discerning \\nneeds of users seeking precise and contextually relevant information from their digital documents.   \\n \\n2  Inteligencia Artificial 73(2024)  \\n \\n \\n  \\nOur project assumes a pivotal role by seamlessly integrating natural language queries and advanced document    \\nanalysis. At its core, the project is designed to enhance user experiences and interactions with digital content \\nthrough the facilitation of intelligent, context -aware responses to natural language queries posed by users. The role \\nand significance of the project are:  \\n \\n• Facilitating Natural Language Queries: The project acts as a catalyst in bridging the gap between users \\nand digital documents by enabling them to articulate queries in natural language. This functionality \\ntranscends the traditional keyword -based search paradigm, offering users a more intuitive and user -\\nfriendly means of interacting with complex digital content.  \\n \\n• Leveraging Advanced Technologies: By combining cutting -edge technologies such as vector database \\ntechnology (Cassandra) and state -of-the-art language models (OpenAI), the project provides a \\nsophisticated framework for efficient storage, retrieval, and analysis of document embeddings. This \\nintegration ensures that users receive accurate and contextually rich responses to their queries.  \\n \\n• Custom -Designed Chatbot for Seamless Interaction: The inclusion of a custom -designed chatbot serves \\nas the project\\'s user interface, allowing users to effortlessly upload PDF documents and engage in \\nmeaningful natural language interactions. This chatbot becomes the gateway for users to access, analyze, \\nand extract pertinent information from their digital documents.  \\n \\n• Innovative Combination for Enhanced Document Interactions: x`The project\\'s innovative combination of \\nvector database technology and advanced language models marks a significant advancement in the realm \\nof intelligent document interactions. It offers a robust solution for users seeking precise, contextually \\nrelevant information from their digital documents, ultimately contributing to a more efficient and user -\\ncentric document interaction experience.  \\n \\nIn summary, the project assumes a pivotal role in revolutionizing how users interact with digital documents, \\nleveraging advanced technologies to provide a seamless and intelligent experience through natural language \\nqueries.  \\n \\n \\nThe paper is structured as follows: Section 1 introduces \"Intelligent PDF Interactions with Natural Language \\nQueries,\" emphasizing its significance in revolutionizing user interactions with digital documents. Section 2 \\nreviews related works in the domain of intelligent PDF interactions, setting the contextual background. In Section \\n3, the methodology is detailed, showcasing the integration of vector database technology, specifically Cassandra, \\nand advanced language models like OpenAI to facilitate natural language queries. Section 4 presents experimental \\ndescriptions and evaluation discussions, highlighting the effectiveness of the system. Finally, Section 5 concludes \\nthe paper by summarizing contributions and discussing implications for the future of intelligent PDF interactions.  \\n \\n2 Literature Survey  \\nThis literature survey embarks on an exploration of relevant studies and methodologies, delving into the evolution \\nof techniques for efficient document analysis and interaction. From traditional approaches rooted in manual \\nfeature engineering to the forefront of modern advancements, including vector database technology and advanced \\nlanguage models, the survey aims to provide a comprehensive understanding of the existing literature.  \\n \\nDemiao , Lin [ 11] introduces the current state of professional knowledge -based question answering systems, \\nparticularly focusing on Retrieval -Augmented Generation (RAG) methods powered by Large Language Models \\n(LLMs). The author highlights the prevalent integration of RAG in frameworks like LangChain and the \\navailability of Embedding and Chat API interfaces from major foundation model companies. The central question \\nposed is whether professional knowledge QA systems are approaching perfection, given the advancements in \\nRAG. The article identifies a limitation in current methods, pointing out that their effectiveness relies heavily on \\naccessing high -quality text corpora, and highlights the impact of low accuracy in parsing PDFs, where \\nprofessional documents are predominantly stored. The author conducts an empirical RAG experiment across real - \\n \\nInteligencia Artificial 73(2024)   3 \\n \\n world professional documents, comparing the performance of ChatDOC, a RAG system equipped with an \\nextensive PDF parser, against baseline systems. The results demonstrate that ChatDOC, with enhanced PDF \\nstructure recognition, retrieves more accurate and complete segments, yielding superior answers in 47% of cases, \\ntying in 38% of cases, and falling short in only 15% of cases. The findings suggest the potential for \\nrevolutionizing RAG through improved PDF structure recognition.  \\n \\nMutiara Auliya Khadija, Abdul Aziz, and Wahyu Nurharjadmo [ 12] explores the development of a PDF -\\nDriven Chatbot using Large Language Models (LLMs) for faculty guidelines question answering. Utilizing the \\nLangChain Framework and OpenAI\\'s Chat -GPT, the chatbot demonstrates effective automated information \\nretrieval from educational materials, offering coherent responses aligned with the context of PDF documents.  \\n \\nRan Elgedawy, Sudarshan Srinivasan, and Ioana Danciu [ 6] explores the development of a chatbot interface \\npowered by advanced language models for efficient querying of electronic health records. The system, \\nimplemented with Langchain and models like Wizard Vicuna, enables users to dynamically extract key \\ninformation from clinical notes using natural language. Despite promising results and optimizations such as \\nweight quantization for improved latency, challenges like model hallucinations and the need for robust evaluation \\nacross diverse medical cases are acknowledged. The research highlights the potential of AI -driven conversational \\ninterfaces to advance clinical decision -making through dynamic question -answering in healthcare.  \\n \\nOguzhan Topsakal and Tahir Cetin Akinci [ 14] investigates the rapid development of applications using Large \\nLanguage Models (LLMs) with a focus on LangChain, an open -source software library. LLMs have gained \\nwidespread adoption for tasks like essay composition, code writing, and explanation, with OpenAI\\'s ChatGPT \\nbeing widely popular. The study delves into LangChain\\'s core features, highlighting its modular abstractions and \\ncustomizable pipelines. Through practical examples, the paper demonstrates LangChain\\'s potential in expediting \\nthe development of bespoke LLM -based applications. Keywords include Large Language Models, LangChain, \\nConcepts, Application, ChatGPT, NLP, and GPT.  \\n \\nAigerim Mansurova, Aliya Nugumanova, and Zhansaya Makhambetova [1 3] investigates the integration of \\nLarge Language Models (LLMs), specifically ChatGPT, with an external knowledge management module to \\nenhance their performance in domain -specific and knowledge -intensive tasks. Traditional LLMs often face \\nchallenges in accessing relevant data and lack transparency, limiting their application in critical real -world \\nscenarios. The proposed system addresses these limitations by enabling LLMs to leverage vector databases and \\nretrieve information from the Internet in real -time, expanding their knowledge base without the need for extensive \\nretraining. Preliminary results indicate promising improvements in the performance of LLMs, underscoring the \\npotential of the system in optimizing language generation capabilities for specific domains. The approach \\nemphasizes efficient utilization of existing models to overcome resource -intensive retraining processes  \\n \\nIn conclusion, the reviewed research papers collectively underscore the transformative potential of integrating \\nLarge Language Models (LLMs) into various domains. The studies showcase innovative approaches to enhance \\nLLMs\\' capabilities, addressing challenges such as limited access to relevant data, lack of transparency, and the \\nneed for continual retraining. From the development of question -answering chatbots for blockchain domains to the \\nexploration of Retrieval -Augmented Generation (RAG) with enhanced PDF structure recognition, these papers \\nemphasize real -world applications and improvements in natural language processing.  \\n \\n3 Proposed Work  \\nThe proposed work, \"Intelligent PDF Interactions with Natural Language Queries\", reflects a meticulous \\norchestration of components, ensuring a seamless journey from document ingestion to user interaction. Starting \\nwith the PyPDFLoader, the system ingests PDF documents, extracting textual content from each page. This raw \\ntext undergoes a transformative journey facilitated by the RecursiveCharacterTextSplitter. The splitter \\nstrategically divides the text into manageable chunks, considering both the chunk size and overlap to optimize \\nprocessing efficiency.  \\n \\nOnce segmented, the text undergoes an enriching process, where metadata, including the document\\'s source \\nand title, is added for contextual depth. This metadata becomes an integral part of the user experience, providing \\nadditional insights during interactions with the system.   \\n \\n4  Inteligencia Artificial 73(2024)  \\n \\n \\n The generated text embeddings, a cornerstone of the project\\'s intelligence, are derived through OpenAI\\'s \\nlanguage model. These embeddings encapsulate semantic intricacies, enabling the system to comprehend the \\nunderlying meaning within the document\\'s textual fabric. OpenAI Embeddings seamlessly integrates with \\nLangChain\\'s Vectorstore Index Creator, setting the stage for efficient vector storage and retrieval.  \\n \\n \\n \\n \\n \\nFigure 1. System Architecture  \\n \\n \\n \\nThe integration of the Cassandra database, supported by Astra DB, is a cornerstone in the project\\'s \\narchitecture, serving as the robust backbone for storing and managing text embeddings. This strategic alliance \\nensures not only scalability to accommodate a growing repository but also real -time accessibility, laying a strong \\nfoundation for the subsequent phases of document exploration.  \\n \\nThe Vectorstore Index, meticulously crafted by LangChain, emerges as the guiding intelligence in the system. \\nIt acts as a sophisticated map, empowering the system to adeptly navigate through the stored vectors and retrieve \\npertinent information in response to user queries. This symbiotic dance between OpenAI Embeddings, Cassandra, \\nand the Vectorstore Index constitutes the very essence of the system\\'s intelligence.  \\n \\nWithin this intricate ecosystem, OpenAI Embeddings assumes the role of the system\\'s cognitive powerhouse. \\nIts ability to encapsulate semantic nuances within the document\\'s textual fabric allows the system to grasp the \\nunderlying meaning with remarkable depth. The Vectorstore Index, utilizing the power of Cassandra, ensures that \\nthese embeddings are not only efficiently stored but also seamlessly retrievable in real -time.  \\n \\nAs users engage with the system through the Streamlit interface, their natural language queries initiate a \\ndynamic interaction with the Vectorstore Index. This responsive system intelligently interprets and processes user  \\n \\nInteligencia Artificial 73(2024)   5 \\n \\n queries, employing the nuanced understanding of context garnered from the stored embeddings. The Streamlit \\ninterface, acting as the user\\'s portal, provides a visually appealing and intuitive medium for users to interact with \\nthe document content.  \\n \\nIn a sophisticated symphony of technologies, the intelligent interplay of text embeddings, vector storing, and \\nsimilarity search becomes the backbone of the system\\'s architecture. The Retrieval -Augmented Generation (RAG) \\nsystem, powered by LangChain\\'s framework, orchestrates responses with finesse. The RAG system, leveraging \\nthe extensive knowledge stored in the Vectorstore Index, navigates through the document landscape to generate \\ncontextually rich responses.  \\n \\nIn conclusion, the architectural design represents a harmonious convergence of advanced technologies. The \\norchestrated dance of components, from OpenAI Embeddings to Cassandra, the Vectorstore Index, and the \\nStreamlit interface, redefines the document exploration experience. This intelligent interplay establishes a robust \\nfoundation for a user -friendly, natural language -based interface, transcending traditional document interaction \\nparadigms.  \\n \\n4 Results and Discussion  \\nIn this section, we present the results of our project, \"Intelligent PDF Interactions with Natural Language \\nQueries,\" and discuss various aspects, including system performance, user interactions, and the overall design.  \\n4.1 System Performance  \\n4.1.1 Vector Database Efficiency  \\nOur system relies on a vector database for storing and retrieving document embeddings. The performance metrics \\nindicate the efficiency of this approach.  \\n \\n• Retrieval Time: The average time taken for vector retrieval is 120 milliseconds, ensuring quick responses \\nto user queries.  \\n \\n \\n \\nFigure 2. Performance of Vector Retrieval System  \\n \\n \\n• Accuracy: The system exhibits a high accuracy rate of 92%, providing reliable results for diverse natural \\nlanguage queries.  \\n  \\n \\n6  Inteligencia Artificial 73(2024)  \\n \\n \\n \\n \\n \\nFigure  3. System  Accuracy  \\n \\n \\n• Concurrency Handling: Robust concurrency handling capabilities ensure smooth operations even during \\npeak usage.  \\n \\n \\n \\nFigure 4. Performance of Concurrency Handling  \\n \\n \\n \\n \\n  \\n \\nInteligencia Artificial 73(2024)   7 \\n \\n 4.2 User Interactions  \\nThe heart of our system lies in the user interactions facilitated through a well -designed chatbot interface. Users \\ncan seamlessly interact with the PDF documents using natural language queries.  \\n \\n \\n \\n Figure  5. User  Interface  \\n \\n4.2.1 PDF Question and Response Template  \\nUsers can input questions related to PDF documents, and the system generates accurate responses. Below is a \\ntemplate illustrating the format of user queries and system responses.  \\n \\nQUESTION:  \"Tell the basis of chatbot\"  \\nANSWER:  \"The basis of chatbot is its ability to converse with humans, either through text or voice -based \\nqueries, and its primary function of acquiring information. It can run on local PCs and mobile phones.\"  \\n \\nFIRST DOCUMENTS BY RELEVANCE:  \\n    [0.9282] \"virtual assistants in everyday lives.   \\nA. Basics of chat bot   \\nA chatbot is an arti ...\"  \\n    [0.9282] \"virtual assistants in everyday lives.  \\n \\n4.3 Website Design  \\nThe website is designed with user experience in mind, providing a clean and intuitive interface for interacting with \\nPDFs.  \\n  \\n \\n8  Inteligencia Artificial 73(2024)  \\n \\n \\n \\n \\n \\nFigure  6. Chatbot  Overall  Design  \\n \\nComparative  Analysis  \\nWhile  traditional  datasets  were  not utilized,  a comparative  analysis  with traditional  methods  showcases  the \\nadvantages  of our vector  database  approach.  \\n• Efficiency:  The vector  database  exhibits  superior  efficiency  in handling  document  vectors  compared  to \\ntraditional  methods.  \\n• Scalability:  Our system\\'s  architecture  ensures  scalability,  accommodating  a growing  volume  of \\ndocuments  and user queries.  \\n \\n5 Conclusions  \\nIn conclusion, \"Intelligent PDF Interactions with Natural Language Queries\" demonstrates a robust solution \\nutilizing AstraDB for document vector storage, LangChain for efficient language processing, and a unique \\ncombination of technologies like Streamlit for a seamless user interface. The system\\'s effectiveness spans various \\ndocument datasets, validated through rigorous evaluation metrics. Incorporating components like the Rag system \\nand LangChain adds sophistication to the project, providing enhanced capabilities in document understanding. \\nThe thoughtful integration of these technologies, coupled with user -centric design elements, ensures the project\\'s \\nadaptability and positions it at the forefront of intelligent document interactions.  \\nReferences  \\n[1] Aggarwal, Mukul. \"Information retrieval and question answering nlp approach: an artificial intelligence \\napplication.\" International Journal of Soft Computing and Engineering (IJSCE) 1, no. NCAI2011 (2011).  \\n[2] Braun, S., & Tsay, J. (2022). A chatbot for PDFs: Using LangChain and Pinecone to build a conversational AI \\nassistant for document management. arXiv preprint arXiv:2201.08244.  \\n[3] Cai, H., & Liu, Z. (2022). A survey on large language models. arXiv preprint arXiv:2201.08237.  \\n[4] Clementeena, A., and P. Sripriya. \"A literature survey on question answering system in natural language \\nprocessing.\" International Journal of Engineering and Technology (2018) 7, no. 3.3 (2018): 452 -455. \\n[5] Devlin, J., Chang, M. -W., Lee, K., & Toutanova, K. (2018). Bert: Pre -training of deep bidirectional \\ntransformers for language understanding. arXiv preprint arXiv:1810.04805.   \\n \\nInteligencia Artificial 73(2024)   9 \\n \\n [6] Elgedawy, Ran, Sudarshan Srinivasan, and Ioana Danciu. \"Dynamic Q&A of Clinical Documents with Large \\nLanguage Models.\" arXiv preprint arXiv:2401.10733 (2024).  \\n[7] Hartawan, Andrei, and Derwin Suhartono. \"Using vector space model in question answering system.\" Procedia \\nComputer Science 59 (2015): 305 -311. \\n[8] Howard, J., Ruder, S. (2020). Universal language model fine -tuning for text classification. arXiv preprint \\narXiv:2004.10965.  \\n[9] Jeong, Cheonsu. \"Generative AI service implementation using LLM application architecture: based on RAG \\nmodel and LangChain framework.\" Journal of Intelligence and Information Systems 29, no. 4 (2023): 129 -\\n164. \\n[10] Kumar, A., & Raschka, S. (2021). Pinecone: A simple and efficient framework for large language model \\ninference. arXiv preprint arXiv:2103.10811.  \\n[11] Lin, Demiao. \"Revolutionizing Retrieval -Augmented Generation with Enhanced PDF Structure \\nRecognition.\" arXiv preprint arXiv:2401.12599 (2024).  \\n[12] M. A. Khadija, A. Aziz and W. Nurharjadmo, \"Automating Information Retrieval from Faculty Guidelines: \\nDesigning a PDF -Driven Chatbot powered by OpenAI ChatGPT,\" 2023 International Conference on \\nComputer, Control, Informatics and its Applications (IC3INA), Bandung, Indonesia, 2023, pp. 394 -399, doi: \\nhttps://doi.org/10.1109/IC3INA60834.2023.10285808  \\n[13] Mansurova, Aigerim, Aliya Nugumanova, and Zhansaya Makhambetova. 2023. “DEVELOPMENT OF A \\nQUESTION ANSWERING CHATBOT FOR BLOCKCHAIN DOMAIN”. Scientific Journal of Astana IT \\nUniversity15(15):27 -40.https://doi.org/10.37943/15XNDZ6667 . \\n[14] Topsakal, Oguzhan, and Tahir Cetin Akinci. \"Creating large language model applications utilizing langchain: \\nA primer on developing llm apps fast.\" In International Conference on Applied Engineering and Natural \\nSciences, vol. 1, no. 1, pp. 1050 -1056. 2023.  \\n[15] Radford, A., Narasimhan, K., Salimans, T., & Sutskever, I. (2018). Improving language understanding by \\ngenerative pre -training. arXiv preprint arXiv:1807.03819.  \\n[16] Radford, Alec, and Jeffrey Wu. \"Rewon child, david luan, dario amodei, and ilya sutskever. 2019.\" Language \\nmodels are unsupervised multitask learners. OpenAI blog 1, no. 8 (2019): 9.  \\n[17] Sharma, Yashvardhan & Gupta, Sahil. (2018). Deep Learning Approaches for Question Answering System. \\nProcedia Computer Science. 132. 785 -794. 10.1016/j.procs.2018.05.090.  \\n[18] Singh, Shivani, Nishtha Das, Rachel Michael, and P. Tanwar. \"The Question Answering System Using NLP  \\nand AI.\" International Journal of Scient ific & Engineering Research 7, no. 12 (2016): 2229 -5518.  \\n[19] Wolf, T., Debut, L., Sanh, V., Chaurasia, R., Devlin, J., & Ruder, S. (2020). Huggingface transformers: State -\\nof-the-art natural language processing. arXiv preprint arXiv:2005.14165.  \\n[20] Zhang, Y., He, K., Sun, J., & Liu, Z. (2020). Megatron -Turing NLG: Scaling up language modeling with \\n1.56T parameters. arXiv preprint arXiv:2005.14165.  '"
            ]
          },
          "execution_count": 23,
          "metadata": {},
          "output_type": "execute_result"
        }
      ],
      "source": [
        "raw_text"
      ]
    },
    {
      "cell_type": "markdown",
      "metadata": {
        "id": "5S0GgIQs4Rps"
      },
      "source": [
        "Initialize the connection to your database"
      ]
    },
    {
      "cell_type": "code",
      "execution_count": 24,
      "metadata": {
        "colab": {
          "base_uri": "https://localhost:8080/"
        },
        "id": "zFBR5HnZSPmK",
        "outputId": "660f48ac-2a67-4588-c791-1bc052ecf47a"
      },
      "outputs": [],
      "source": [
        "cassio.init(token=ASTRA_DB_APPLICATION_TOKEN, database_id=ASTRA_DB_ID)"
      ]
    },
    {
      "cell_type": "markdown",
      "metadata": {
        "id": "ex7NxZYb4Rps"
      },
      "source": [
        "Create the LangChain embedding and LLM objects for later usage:"
      ]
    },
    {
      "cell_type": "code",
      "execution_count": 25,
      "metadata": {
        "id": "TavS0AK2SLrL"
      },
      "outputs": [],
      "source": [
        "llm = OpenAI(openai_api_key=OPENAI_API_KEY)\n",
        "embedding = OpenAIEmbeddings(openai_api_key=OPENAI_API_KEY)"
      ]
    },
    {
      "cell_type": "markdown",
      "metadata": {
        "id": "9HMMx5Pm4Rpt"
      },
      "source": [
        "Create your LangChain vector store ... backed by Astra DB!"
      ]
    },
    {
      "cell_type": "code",
      "execution_count": 26,
      "metadata": {
        "id": "bg9VAk4USQvU"
      },
      "outputs": [],
      "source": [
        "astra_vector_store = Cassandra(\n",
        "    embedding=embedding,\n",
        "    table_name=\"qa_mini_demo\",\n",
        "    session=None,\n",
        "    keyspace=None,\n",
        ")"
      ]
    },
    {
      "cell_type": "code",
      "execution_count": 27,
      "metadata": {
        "id": "9FMAhKr77AVO"
      },
      "outputs": [],
      "source": [
        "from langchain.text_splitter import CharacterTextSplitter\n",
        "# We need to split the text using Character Text Split such that it should not increase token size\n",
        "text_splitter = CharacterTextSplitter(\n",
        "    separator = \"\\n\",\n",
        "    chunk_size = 800,\n",
        "    chunk_overlap  = 200,\n",
        "    length_function = len,\n",
        ")\n",
        "texts = text_splitter.split_text(raw_text)"
      ]
    },
    {
      "cell_type": "code",
      "execution_count": 28,
      "metadata": {
        "colab": {
          "base_uri": "https://localhost:8080/"
        },
        "id": "k8BDHAyT7Gjr",
        "outputId": "4c68b39d-c9ab-44ea-a4f5-df34fed39da7"
      },
      "outputs": [
        {
          "data": {
            "text/plain": [
              "['Inteligencia Artificial, 27(73) (2024), 129 -141 \\n \\nISSN: 1137 -3601 (print), 1988 -3064 (on -line)  \\n© IBERAMIA  and the authors  INTELIGENCIA ARTIFICIAL  \\n \\nhttp://journal.iberamia.org/  \\n \\n \\n \\n \\n \\nIntelligent PDF  Interactions with Natural Language Queries  \\n \\nAbstract  This research explores the fusion of natural language processing and document analysis to create an \\nintelligent document interaction system. The project combines vector database technology, Cassandra, with \\nOpenAI language models, enabling users to seamlessly interact with PDF documents using natural language \\nqueries. Through a custom -designed chatbot, users can upload PDFs, which are processed and indexed in the',\n",
              " \"queries. Through a custom -designed chatbot, users can upload PDFs, which are processed and indexed in the \\nCassandra vector database. The integration of OpenAI facilitates contextually rich responses to user queries, \\nproviding an effective mechanism for retrieving precise information from digital documents. Experimental \\nevaluations demonstrate the system's accuracy and showcase a significant advancement in enhancing user \\ninteractions with PDFs through intelligent natural language interactions.  \\n \\nResumen  Esta investigación explora la fusión del procesamiento del lenguaje natural y el análisis de documentos \\npara crear un sistema inteligente de interacción de documentos. El proyecto combina la tecnología de base de\",\n",
              " 'para crear un sistema inteligente de interacción de documentos. El proyecto combina la tecnología de base de \\ndatos vectorial, Cassandra, con modelos de lenguaje OpenAI, lo que permite a los usuarios interactuar sin \\nproblemas con documentos PDF mediante consultas en lenguaje natural. A través de un chatbot diseñado a \\nmedida, los usuarios pueden cargar archivos PDF, que se procesan e indexan en la base de datos vectorial de \\nCassandra. La integración de OpenAI facilita respuestas contextualmente ricas a las consultas de los usuarios, \\nproporcionando un mecanismo eficaz para recuperar información precisa de documentos digitales. Las \\nevaluaciones experimentales demuestran la precisión del sistema y muestran un avance significativo en la mejora',\n",
              " 'evaluaciones experimentales demuestran la precisión del sistema y muestran un avance significativo en la mejora \\nde las interacciones del usuario con archivos PDF a través de interacciones inteligentes en lenguaje natural.  \\n \\nKeywords : Natural Language Processing, Document Analysis, Cassandra, OpenAI, Vector Database, Chatbot, \\nPDF Interaction, Intelligent Document Retrieval, Information Extraction, User -Friendly Queries.  \\nPalabras clave : Procesamiento de lenguaje natural, análisis de documentos, Cassandra, OpenAI, base de datos \\nvectorial, chatbot, interacción PDF, recuperación inteligente de documentos, extracción de información, consultas \\nfáciles de usar.  \\n1 Introduction',\n",
              " 'vectorial, chatbot, interacción PDF, recuperación inteligente de documentos, extracción de información, consultas \\nfáciles de usar.  \\n1 Introduction  \\nIn the ever -evolving landscape of digital information, the integration of natural language processing (NLP) and \\ndocument analysis emerges as a pivotal paradigm for elevating user interactions with digital content. This research \\nproject addresses the intricate challenge of fostering intelligent document interactions through the lens of natural \\nlanguage queries, presenting a comprehensive solution that amalgamates cutting -edge technologies.  \\nOur project employs a holistic approach, leveraging the symbiotic integration of vector database technology,',\n",
              " 'Our project employs a holistic approach, leveraging the symbiotic integration of vector database technology, \\nspecifically Cassandra, and state -of-the-art language models, exemplified by OpenAI. At its core, the project \\nfeatures a bespoke chatbot, meticulously designed to empower users in seamlessly uploading PDF documents. \\nSubsequently, these documents undergo sophisticated processing and indexing within a vector database, laying the \\nfoundation for a nuanced and efficient information retrieval system. Methodologically, the project harnesses the \\nformidable capabilities of the OpenAI language model, ensuring the generation of contextually relevant responses \\nto user queries. Concurrently, the vector database, Cassandra, plays a pivotal role in enabling the storage and',\n",
              " \"to user queries. Concurrently, the vector database, Cassandra, plays a pivotal role in enabling the storage and \\nretrieval of document embeddings with unparalleled efficiency. The architectural synergy between the chatbot and \\nthe vector database establishes a conduit for seamless communication, thereby furnishing users with accurate and \\ncontextually rich responses to their natural language inquiries.  \\nThe empirical validation of our approach is substantiated through rigorous experimental evaluations, attesting \\nto the system's efficacy in retrieving pertinent information from uploaded PDFs. The results not only showcase a \\ncommendable accuracy rate in response generation but also underscore the innovative amalgamation of vector\",\n",
              " 'commendable accuracy rate in response generation but also underscore the innovative amalgamation of vector \\ndatabase technology and advanced language models. This confluence delineates a significant advancement in the \\ndomain of intelligent document interactions, offering a robust and sophisticated solution tailored to the discerning \\nneeds of users seeking precise and contextually relevant information from their digital documents.   \\n \\n2  Inteligencia Artificial 73(2024)  \\n \\n \\n  \\nOur project assumes a pivotal role by seamlessly integrating natural language queries and advanced document    \\nanalysis. At its core, the project is designed to enhance user experiences and interactions with digital content',\n",
              " 'analysis. At its core, the project is designed to enhance user experiences and interactions with digital content \\nthrough the facilitation of intelligent, context -aware responses to natural language queries posed by users. The role \\nand significance of the project are:  \\n \\n• Facilitating Natural Language Queries: The project acts as a catalyst in bridging the gap between users \\nand digital documents by enabling them to articulate queries in natural language. This functionality \\ntranscends the traditional keyword -based search paradigm, offering users a more intuitive and user -\\nfriendly means of interacting with complex digital content.  \\n \\n• Leveraging Advanced Technologies: By combining cutting -edge technologies such as vector database',\n",
              " \"friendly means of interacting with complex digital content.  \\n \\n• Leveraging Advanced Technologies: By combining cutting -edge technologies such as vector database \\ntechnology (Cassandra) and state -of-the-art language models (OpenAI), the project provides a \\nsophisticated framework for efficient storage, retrieval, and analysis of document embeddings. This \\nintegration ensures that users receive accurate and contextually rich responses to their queries.  \\n \\n• Custom -Designed Chatbot for Seamless Interaction: The inclusion of a custom -designed chatbot serves \\nas the project's user interface, allowing users to effortlessly upload PDF documents and engage in \\nmeaningful natural language interactions. This chatbot becomes the gateway for users to access, analyze,\",\n",
              " \"meaningful natural language interactions. This chatbot becomes the gateway for users to access, analyze, \\nand extract pertinent information from their digital documents.  \\n \\n• Innovative Combination for Enhanced Document Interactions: x`The project's innovative combination of \\nvector database technology and advanced language models marks a significant advancement in the realm \\nof intelligent document interactions. It offers a robust solution for users seeking precise, contextually \\nrelevant information from their digital documents, ultimately contributing to a more efficient and user -\\ncentric document interaction experience.  \\n \\nIn summary, the project assumes a pivotal role in revolutionizing how users interact with digital documents,\",\n",
              " 'centric document interaction experience.  \\n \\nIn summary, the project assumes a pivotal role in revolutionizing how users interact with digital documents, \\nleveraging advanced technologies to provide a seamless and intelligent experience through natural language \\nqueries.  \\n \\n \\nThe paper is structured as follows: Section 1 introduces \"Intelligent PDF Interactions with Natural Language \\nQueries,\" emphasizing its significance in revolutionizing user interactions with digital documents. Section 2 \\nreviews related works in the domain of intelligent PDF interactions, setting the contextual background. In Section \\n3, the methodology is detailed, showcasing the integration of vector database technology, specifically Cassandra,',\n",
              " '3, the methodology is detailed, showcasing the integration of vector database technology, specifically Cassandra, \\nand advanced language models like OpenAI to facilitate natural language queries. Section 4 presents experimental \\ndescriptions and evaluation discussions, highlighting the effectiveness of the system. Finally, Section 5 concludes \\nthe paper by summarizing contributions and discussing implications for the future of intelligent PDF interactions.  \\n \\n2 Literature Survey  \\nThis literature survey embarks on an exploration of relevant studies and methodologies, delving into the evolution \\nof techniques for efficient document analysis and interaction. From traditional approaches rooted in manual',\n",
              " 'of techniques for efficient document analysis and interaction. From traditional approaches rooted in manual \\nfeature engineering to the forefront of modern advancements, including vector database technology and advanced \\nlanguage models, the survey aims to provide a comprehensive understanding of the existing literature.  \\n \\nDemiao , Lin [ 11] introduces the current state of professional knowledge -based question answering systems, \\nparticularly focusing on Retrieval -Augmented Generation (RAG) methods powered by Large Language Models \\n(LLMs). The author highlights the prevalent integration of RAG in frameworks like LangChain and the \\navailability of Embedding and Chat API interfaces from major foundation model companies. The central question',\n",
              " 'availability of Embedding and Chat API interfaces from major foundation model companies. The central question \\nposed is whether professional knowledge QA systems are approaching perfection, given the advancements in \\nRAG. The article identifies a limitation in current methods, pointing out that their effectiveness relies heavily on \\naccessing high -quality text corpora, and highlights the impact of low accuracy in parsing PDFs, where \\nprofessional documents are predominantly stored. The author conducts an empirical RAG experiment across real - \\n \\nInteligencia Artificial 73(2024)   3 \\n \\n world professional documents, comparing the performance of ChatDOC, a RAG system equipped with an \\nextensive PDF parser, against baseline systems. The results demonstrate that ChatDOC, with enhanced PDF',\n",
              " \"extensive PDF parser, against baseline systems. The results demonstrate that ChatDOC, with enhanced PDF \\nstructure recognition, retrieves more accurate and complete segments, yielding superior answers in 47% of cases, \\ntying in 38% of cases, and falling short in only 15% of cases. The findings suggest the potential for \\nrevolutionizing RAG through improved PDF structure recognition.  \\n \\nMutiara Auliya Khadija, Abdul Aziz, and Wahyu Nurharjadmo [ 12] explores the development of a PDF -\\nDriven Chatbot using Large Language Models (LLMs) for faculty guidelines question answering. Utilizing the \\nLangChain Framework and OpenAI's Chat -GPT, the chatbot demonstrates effective automated information\",\n",
              " \"LangChain Framework and OpenAI's Chat -GPT, the chatbot demonstrates effective automated information \\nretrieval from educational materials, offering coherent responses aligned with the context of PDF documents.  \\n \\nRan Elgedawy, Sudarshan Srinivasan, and Ioana Danciu [ 6] explores the development of a chatbot interface \\npowered by advanced language models for efficient querying of electronic health records. The system, \\nimplemented with Langchain and models like Wizard Vicuna, enables users to dynamically extract key \\ninformation from clinical notes using natural language. Despite promising results and optimizations such as \\nweight quantization for improved latency, challenges like model hallucinations and the need for robust evaluation\",\n",
              " \"weight quantization for improved latency, challenges like model hallucinations and the need for robust evaluation \\nacross diverse medical cases are acknowledged. The research highlights the potential of AI -driven conversational \\ninterfaces to advance clinical decision -making through dynamic question -answering in healthcare.  \\n \\nOguzhan Topsakal and Tahir Cetin Akinci [ 14] investigates the rapid development of applications using Large \\nLanguage Models (LLMs) with a focus on LangChain, an open -source software library. LLMs have gained \\nwidespread adoption for tasks like essay composition, code writing, and explanation, with OpenAI's ChatGPT \\nbeing widely popular. The study delves into LangChain's core features, highlighting its modular abstractions and\",\n",
              " \"being widely popular. The study delves into LangChain's core features, highlighting its modular abstractions and \\ncustomizable pipelines. Through practical examples, the paper demonstrates LangChain's potential in expediting \\nthe development of bespoke LLM -based applications. Keywords include Large Language Models, LangChain, \\nConcepts, Application, ChatGPT, NLP, and GPT.  \\n \\nAigerim Mansurova, Aliya Nugumanova, and Zhansaya Makhambetova [1 3] investigates the integration of \\nLarge Language Models (LLMs), specifically ChatGPT, with an external knowledge management module to \\nenhance their performance in domain -specific and knowledge -intensive tasks. Traditional LLMs often face\",\n",
              " 'enhance their performance in domain -specific and knowledge -intensive tasks. Traditional LLMs often face \\nchallenges in accessing relevant data and lack transparency, limiting their application in critical real -world \\nscenarios. The proposed system addresses these limitations by enabling LLMs to leverage vector databases and \\nretrieve information from the Internet in real -time, expanding their knowledge base without the need for extensive \\nretraining. Preliminary results indicate promising improvements in the performance of LLMs, underscoring the \\npotential of the system in optimizing language generation capabilities for specific domains. The approach \\nemphasizes efficient utilization of existing models to overcome resource -intensive retraining processes',\n",
              " \"emphasizes efficient utilization of existing models to overcome resource -intensive retraining processes  \\n \\nIn conclusion, the reviewed research papers collectively underscore the transformative potential of integrating \\nLarge Language Models (LLMs) into various domains. The studies showcase innovative approaches to enhance \\nLLMs' capabilities, addressing challenges such as limited access to relevant data, lack of transparency, and the \\nneed for continual retraining. From the development of question -answering chatbots for blockchain domains to the \\nexploration of Retrieval -Augmented Generation (RAG) with enhanced PDF structure recognition, these papers \\nemphasize real -world applications and improvements in natural language processing.  \\n \\n3 Proposed Work\",\n",
              " 'emphasize real -world applications and improvements in natural language processing.  \\n \\n3 Proposed Work  \\nThe proposed work, \"Intelligent PDF Interactions with Natural Language Queries\", reflects a meticulous \\norchestration of components, ensuring a seamless journey from document ingestion to user interaction. Starting \\nwith the PyPDFLoader, the system ingests PDF documents, extracting textual content from each page. This raw \\ntext undergoes a transformative journey facilitated by the RecursiveCharacterTextSplitter. The splitter \\nstrategically divides the text into manageable chunks, considering both the chunk size and overlap to optimize \\nprocessing efficiency.  \\n \\nOnce segmented, the text undergoes an enriching process, where metadata, including the document\\'s source',\n",
              " \"processing efficiency.  \\n \\nOnce segmented, the text undergoes an enriching process, where metadata, including the document's source \\nand title, is added for contextual depth. This metadata becomes an integral part of the user experience, providing \\nadditional insights during interactions with the system.   \\n \\n4  Inteligencia Artificial 73(2024)  \\n \\n \\n The generated text embeddings, a cornerstone of the project's intelligence, are derived through OpenAI's \\nlanguage model. These embeddings encapsulate semantic intricacies, enabling the system to comprehend the \\nunderlying meaning within the document's textual fabric. OpenAI Embeddings seamlessly integrates with \\nLangChain's Vectorstore Index Creator, setting the stage for efficient vector storage and retrieval.\",\n",
              " \"LangChain's Vectorstore Index Creator, setting the stage for efficient vector storage and retrieval.  \\n \\n \\n \\n \\n \\nFigure 1. System Architecture  \\n \\n \\n \\nThe integration of the Cassandra database, supported by Astra DB, is a cornerstone in the project's \\narchitecture, serving as the robust backbone for storing and managing text embeddings. This strategic alliance \\nensures not only scalability to accommodate a growing repository but also real -time accessibility, laying a strong \\nfoundation for the subsequent phases of document exploration.  \\n \\nThe Vectorstore Index, meticulously crafted by LangChain, emerges as the guiding intelligence in the system. \\nIt acts as a sophisticated map, empowering the system to adeptly navigate through the stored vectors and retrieve\",\n",
              " \"It acts as a sophisticated map, empowering the system to adeptly navigate through the stored vectors and retrieve \\npertinent information in response to user queries. This symbiotic dance between OpenAI Embeddings, Cassandra, \\nand the Vectorstore Index constitutes the very essence of the system's intelligence.  \\n \\nWithin this intricate ecosystem, OpenAI Embeddings assumes the role of the system's cognitive powerhouse. \\nIts ability to encapsulate semantic nuances within the document's textual fabric allows the system to grasp the \\nunderlying meaning with remarkable depth. The Vectorstore Index, utilizing the power of Cassandra, ensures that \\nthese embeddings are not only efficiently stored but also seamlessly retrievable in real -time.\",\n",
              " \"these embeddings are not only efficiently stored but also seamlessly retrievable in real -time.  \\n \\nAs users engage with the system through the Streamlit interface, their natural language queries initiate a \\ndynamic interaction with the Vectorstore Index. This responsive system intelligently interprets and processes user  \\n \\nInteligencia Artificial 73(2024)   5 \\n \\n queries, employing the nuanced understanding of context garnered from the stored embeddings. The Streamlit \\ninterface, acting as the user's portal, provides a visually appealing and intuitive medium for users to interact with \\nthe document content.  \\n \\nIn a sophisticated symphony of technologies, the intelligent interplay of text embeddings, vector storing, and\",\n",
              " \"the document content.  \\n \\nIn a sophisticated symphony of technologies, the intelligent interplay of text embeddings, vector storing, and \\nsimilarity search becomes the backbone of the system's architecture. The Retrieval -Augmented Generation (RAG) \\nsystem, powered by LangChain's framework, orchestrates responses with finesse. The RAG system, leveraging \\nthe extensive knowledge stored in the Vectorstore Index, navigates through the document landscape to generate \\ncontextually rich responses.  \\n \\nIn conclusion, the architectural design represents a harmonious convergence of advanced technologies. The \\norchestrated dance of components, from OpenAI Embeddings to Cassandra, the Vectorstore Index, and the\",\n",
              " 'orchestrated dance of components, from OpenAI Embeddings to Cassandra, the Vectorstore Index, and the \\nStreamlit interface, redefines the document exploration experience. This intelligent interplay establishes a robust \\nfoundation for a user -friendly, natural language -based interface, transcending traditional document interaction \\nparadigms.  \\n \\n4 Results and Discussion  \\nIn this section, we present the results of our project, \"Intelligent PDF Interactions with Natural Language \\nQueries,\" and discuss various aspects, including system performance, user interactions, and the overall design.  \\n4.1 System Performance  \\n4.1.1 Vector Database Efficiency  \\nOur system relies on a vector database for storing and retrieving document embeddings. The performance metrics',\n",
              " '4.1 System Performance  \\n4.1.1 Vector Database Efficiency  \\nOur system relies on a vector database for storing and retrieving document embeddings. The performance metrics \\nindicate the efficiency of this approach.  \\n \\n• Retrieval Time: The average time taken for vector retrieval is 120 milliseconds, ensuring quick responses \\nto user queries.  \\n \\n \\n \\nFigure 2. Performance of Vector Retrieval System  \\n \\n \\n• Accuracy: The system exhibits a high accuracy rate of 92%, providing reliable results for diverse natural \\nlanguage queries.  \\n  \\n \\n6  Inteligencia Artificial 73(2024)  \\n \\n \\n \\n \\n \\nFigure  3. System  Accuracy  \\n \\n \\n• Concurrency Handling: Robust concurrency handling capabilities ensure smooth operations even during \\npeak usage.  \\n \\n \\n \\nFigure 4. Performance of Concurrency Handling',\n",
              " '• Concurrency Handling: Robust concurrency handling capabilities ensure smooth operations even during \\npeak usage.  \\n \\n \\n \\nFigure 4. Performance of Concurrency Handling  \\n \\n \\n \\n \\n  \\n \\nInteligencia Artificial 73(2024)   7 \\n \\n 4.2 User Interactions  \\nThe heart of our system lies in the user interactions facilitated through a well -designed chatbot interface. Users \\ncan seamlessly interact with the PDF documents using natural language queries.  \\n \\n \\n \\n Figure  5. User  Interface  \\n \\n4.2.1 PDF Question and Response Template  \\nUsers can input questions related to PDF documents, and the system generates accurate responses. Below is a \\ntemplate illustrating the format of user queries and system responses.  \\n \\nQUESTION:  \"Tell the basis of chatbot\"',\n",
              " 'template illustrating the format of user queries and system responses.  \\n \\nQUESTION:  \"Tell the basis of chatbot\"  \\nANSWER:  \"The basis of chatbot is its ability to converse with humans, either through text or voice -based \\nqueries, and its primary function of acquiring information. It can run on local PCs and mobile phones.\"  \\n \\nFIRST DOCUMENTS BY RELEVANCE:  \\n    [0.9282] \"virtual assistants in everyday lives.   \\nA. Basics of chat bot   \\nA chatbot is an arti ...\"  \\n    [0.9282] \"virtual assistants in everyday lives.  \\n \\n4.3 Website Design  \\nThe website is designed with user experience in mind, providing a clean and intuitive interface for interacting with \\nPDFs.  \\n  \\n \\n8  Inteligencia Artificial 73(2024)  \\n \\n \\n \\n \\n \\nFigure  6. Chatbot  Overall  Design  \\n \\nComparative  Analysis',\n",
              " 'PDFs.  \\n  \\n \\n8  Inteligencia Artificial 73(2024)  \\n \\n \\n \\n \\n \\nFigure  6. Chatbot  Overall  Design  \\n \\nComparative  Analysis  \\nWhile  traditional  datasets  were  not utilized,  a comparative  analysis  with traditional  methods  showcases  the \\nadvantages  of our vector  database  approach.  \\n• Efficiency:  The vector  database  exhibits  superior  efficiency  in handling  document  vectors  compared  to \\ntraditional  methods.  \\n• Scalability:  Our system\\'s  architecture  ensures  scalability,  accommodating  a growing  volume  of \\ndocuments  and user queries.  \\n \\n5 Conclusions  \\nIn conclusion, \"Intelligent PDF Interactions with Natural Language Queries\" demonstrates a robust solution \\nutilizing AstraDB for document vector storage, LangChain for efficient language processing, and a unique',\n",
              " 'utilizing AstraDB for document vector storage, LangChain for efficient language processing, and a unique \\ncombination of technologies like Streamlit for a seamless user interface. The system\\'s effectiveness spans various \\ndocument datasets, validated through rigorous evaluation metrics. Incorporating components like the Rag system \\nand LangChain adds sophistication to the project, providing enhanced capabilities in document understanding. \\nThe thoughtful integration of these technologies, coupled with user -centric design elements, ensures the project\\'s \\nadaptability and positions it at the forefront of intelligent document interactions.  \\nReferences  \\n[1] Aggarwal, Mukul. \"Information retrieval and question answering nlp approach: an artificial intelligence',\n",
              " 'References  \\n[1] Aggarwal, Mukul. \"Information retrieval and question answering nlp approach: an artificial intelligence \\napplication.\" International Journal of Soft Computing and Engineering (IJSCE) 1, no. NCAI2011 (2011).  \\n[2] Braun, S., & Tsay, J. (2022). A chatbot for PDFs: Using LangChain and Pinecone to build a conversational AI \\nassistant for document management. arXiv preprint arXiv:2201.08244.  \\n[3] Cai, H., & Liu, Z. (2022). A survey on large language models. arXiv preprint arXiv:2201.08237.  \\n[4] Clementeena, A., and P. Sripriya. \"A literature survey on question answering system in natural language \\nprocessing.\" International Journal of Engineering and Technology (2018) 7, no. 3.3 (2018): 452 -455.',\n",
              " 'processing.\" International Journal of Engineering and Technology (2018) 7, no. 3.3 (2018): 452 -455. \\n[5] Devlin, J., Chang, M. -W., Lee, K., & Toutanova, K. (2018). Bert: Pre -training of deep bidirectional \\ntransformers for language understanding. arXiv preprint arXiv:1810.04805.   \\n \\nInteligencia Artificial 73(2024)   9 \\n \\n [6] Elgedawy, Ran, Sudarshan Srinivasan, and Ioana Danciu. \"Dynamic Q&A of Clinical Documents with Large \\nLanguage Models.\" arXiv preprint arXiv:2401.10733 (2024).  \\n[7] Hartawan, Andrei, and Derwin Suhartono. \"Using vector space model in question answering system.\" Procedia \\nComputer Science 59 (2015): 305 -311. \\n[8] Howard, J., Ruder, S. (2020). Universal language model fine -tuning for text classification. arXiv preprint \\narXiv:2004.10965.',\n",
              " 'Computer Science 59 (2015): 305 -311. \\n[8] Howard, J., Ruder, S. (2020). Universal language model fine -tuning for text classification. arXiv preprint \\narXiv:2004.10965.  \\n[9] Jeong, Cheonsu. \"Generative AI service implementation using LLM application architecture: based on RAG \\nmodel and LangChain framework.\" Journal of Intelligence and Information Systems 29, no. 4 (2023): 129 -\\n164. \\n[10] Kumar, A., & Raschka, S. (2021). Pinecone: A simple and efficient framework for large language model \\ninference. arXiv preprint arXiv:2103.10811.  \\n[11] Lin, Demiao. \"Revolutionizing Retrieval -Augmented Generation with Enhanced PDF Structure \\nRecognition.\" arXiv preprint arXiv:2401.12599 (2024).',\n",
              " 'inference. arXiv preprint arXiv:2103.10811.  \\n[11] Lin, Demiao. \"Revolutionizing Retrieval -Augmented Generation with Enhanced PDF Structure \\nRecognition.\" arXiv preprint arXiv:2401.12599 (2024).  \\n[12] M. A. Khadija, A. Aziz and W. Nurharjadmo, \"Automating Information Retrieval from Faculty Guidelines: \\nDesigning a PDF -Driven Chatbot powered by OpenAI ChatGPT,\" 2023 International Conference on \\nComputer, Control, Informatics and its Applications (IC3INA), Bandung, Indonesia, 2023, pp. 394 -399, doi: \\nhttps://doi.org/10.1109/IC3INA60834.2023.10285808  \\n[13] Mansurova, Aigerim, Aliya Nugumanova, and Zhansaya Makhambetova. 2023. “DEVELOPMENT OF A \\nQUESTION ANSWERING CHATBOT FOR BLOCKCHAIN DOMAIN”. Scientific Journal of Astana IT',\n",
              " '[13] Mansurova, Aigerim, Aliya Nugumanova, and Zhansaya Makhambetova. 2023. “DEVELOPMENT OF A \\nQUESTION ANSWERING CHATBOT FOR BLOCKCHAIN DOMAIN”. Scientific Journal of Astana IT \\nUniversity15(15):27 -40.https://doi.org/10.37943/15XNDZ6667 . \\n[14] Topsakal, Oguzhan, and Tahir Cetin Akinci. \"Creating large language model applications utilizing langchain: \\nA primer on developing llm apps fast.\" In International Conference on Applied Engineering and Natural \\nSciences, vol. 1, no. 1, pp. 1050 -1056. 2023.  \\n[15] Radford, A., Narasimhan, K., Salimans, T., & Sutskever, I. (2018). Improving language understanding by \\ngenerative pre -training. arXiv preprint arXiv:1807.03819.  \\n[16] Radford, Alec, and Jeffrey Wu. \"Rewon child, david luan, dario amodei, and ilya sutskever. 2019.\" Language',\n",
              " 'generative pre -training. arXiv preprint arXiv:1807.03819.  \\n[16] Radford, Alec, and Jeffrey Wu. \"Rewon child, david luan, dario amodei, and ilya sutskever. 2019.\" Language \\nmodels are unsupervised multitask learners. OpenAI blog 1, no. 8 (2019): 9.  \\n[17] Sharma, Yashvardhan & Gupta, Sahil. (2018). Deep Learning Approaches for Question Answering System. \\nProcedia Computer Science. 132. 785 -794. 10.1016/j.procs.2018.05.090.  \\n[18] Singh, Shivani, Nishtha Das, Rachel Michael, and P. Tanwar. \"The Question Answering System Using NLP  \\nand AI.\" International Journal of Scient ific & Engineering Research 7, no. 12 (2016): 2229 -5518.  \\n[19] Wolf, T., Debut, L., Sanh, V., Chaurasia, R., Devlin, J., & Ruder, S. (2020). Huggingface transformers: State -',\n",
              " '[19] Wolf, T., Debut, L., Sanh, V., Chaurasia, R., Devlin, J., & Ruder, S. (2020). Huggingface transformers: State -\\nof-the-art natural language processing. arXiv preprint arXiv:2005.14165.  \\n[20] Zhang, Y., He, K., Sun, J., & Liu, Z. (2020). Megatron -Turing NLG: Scaling up language modeling with \\n1.56T parameters. arXiv preprint arXiv:2005.14165.']"
            ]
          },
          "execution_count": 28,
          "metadata": {},
          "output_type": "execute_result"
        }
      ],
      "source": [
        "texts[:50]"
      ]
    },
    {
      "cell_type": "markdown",
      "metadata": {
        "id": "V1WK54-74Rpt"
      },
      "source": [
        "### Load the dataset into the vector store\n",
        "\n"
      ]
    },
    {
      "cell_type": "code",
      "execution_count": 29,
      "metadata": {
        "colab": {
          "base_uri": "https://localhost:8080/"
        },
        "id": "GX5BECsdSUUM",
        "outputId": "3963e154-f418-451d-d896-2b18dd064c09"
      },
      "outputs": [
        {
          "name": "stdout",
          "output_type": "stream",
          "text": [
            "Inserted 40 headlines.\n"
          ]
        }
      ],
      "source": [
        "\n",
        "astra_vector_store.add_texts(texts[:50])\n",
        "\n",
        "print(\"Inserted %i headlines.\" % len(texts[:50]))\n",
        "\n",
        "astra_vector_index = VectorStoreIndexWrapper(vectorstore=astra_vector_store)"
      ]
    },
    {
      "cell_type": "markdown",
      "metadata": {
        "id": "oLJp8yPF4Rpt"
      },
      "source": [
        "### Run the QA cycle\n",
        "\n",
        "Simply run the cells and ask a question -- or `quit` to stop. (you can also stop execution with the \"▪\" button on the top toolbar)\n",
        "\n",
        "\n",
        "\n"
      ]
    },
    {
      "cell_type": "code",
      "execution_count": 30,
      "metadata": {
        "colab": {
          "base_uri": "https://localhost:8080/"
        },
        "id": "MbJugrh7SX3C",
        "outputId": "576dcedd-0b93-4c4d-b238-76f74264424f"
      },
      "outputs": [
        {
          "name": "stdout",
          "output_type": "stream",
          "text": [
            "\n",
            "QUESTION: \"What is RAG system\"\n",
            "ANSWER: \"The RAG (Retrieval-Augmented Generation) system is a technology that utilizes text embeddings, vector storing, and similarity search to generate contextually rich responses in document interactions. It is powered by frameworks like LangChain and incorporates components like the Vectorstore Index and Chat API interfaces. It is also used in professional knowledge-based question answering systems.\"\n",
            "\n",
            "FIRST DOCUMENTS BY RELEVANCE:\n",
            "    [0.8994] \"the document content.  \n",
            " \n",
            "In a sophisticated symphony of technologies, the intellige ...\"\n",
            "    [0.8829] \"availability of Embedding and Chat API interfaces from major foundation model compan ...\"\n",
            "    [0.8827] \"of techniques for efficient document analysis and interaction. From traditional appr ...\"\n",
            "    [0.8701] \"utilizing AstraDB for document vector storage, LangChain for efficient language proc ...\"\n"
          ]
        }
      ],
      "source": [
        "first_question = True\n",
        "while True:\n",
        "    if first_question:\n",
        "        query_text = input(\"\\nEnter your question (or type 'quit' to exit): \").strip()\n",
        "    else:\n",
        "        query_text = input(\"\\nWhat's your next question (or type 'quit' to exit): \").strip()\n",
        "\n",
        "    if query_text.lower() == \"quit\":\n",
        "        break\n",
        "\n",
        "    if query_text == \"\":\n",
        "        continue\n",
        "\n",
        "    first_question = False\n",
        "\n",
        "    print(\"\\nQUESTION: \\\"%s\\\"\" % query_text)\n",
        "    answer = astra_vector_index.query(query_text, llm=llm).strip()\n",
        "    print(\"ANSWER: \\\"%s\\\"\\n\" % answer)\n",
        "\n",
        "    print(\"FIRST DOCUMENTS BY RELEVANCE:\")\n",
        "    for doc, score in astra_vector_store.similarity_search_with_score(query_text, k=4):\n",
        "        print(\"    [%0.4f] \\\"%s ...\\\"\" % (score, doc.page_content[:84]))"
      ]
    },
    {
      "cell_type": "code",
      "execution_count": null,
      "metadata": {
        "id": "56kJ_XfTawBT"
      },
      "outputs": [],
      "source": []
    }
  ],
  "metadata": {
    "colab": {
      "provenance": []
    },
    "kernelspec": {
      "display_name": "Python 3 (ipykernel)",
      "language": "python",
      "name": "python3"
    },
    "language_info": {
      "codemirror_mode": {
        "name": "ipython",
        "version": 3
      },
      "file_extension": ".py",
      "mimetype": "text/x-python",
      "name": "python",
      "nbconvert_exporter": "python",
      "pygments_lexer": "ipython3",
      "version": "3.11.2"
    }
  },
  "nbformat": 4,
  "nbformat_minor": 0
}
